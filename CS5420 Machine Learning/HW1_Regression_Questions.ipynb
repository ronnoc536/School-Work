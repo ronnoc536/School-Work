{
  "cells": [
    {
      "cell_type": "markdown",
      "id": "25780e18",
      "metadata": {
        "id": "25780e18"
      },
      "source": [
        "## Regression Tasks"
      ]
    },
    {
      "cell_type": "markdown",
      "id": "fd28f67f",
      "metadata": {
        "id": "fd28f67f"
      },
      "source": [
        "**IMPORTANT: Make sure to set random_state=42 when using sklearn.model_selection.train_test_split**"
      ]
    },
    {
      "cell_type": "markdown",
      "id": "5f936d26",
      "metadata": {
        "id": "5f936d26"
      },
      "source": [
        "**Task 1: Ordinary Least Squares (OLS)**"
      ]
    },
    {
      "cell_type": "code",
      "execution_count": 1,
      "id": "70f2eb2c",
      "metadata": {
        "id": "70f2eb2c"
      },
      "outputs": [],
      "source": [
        "# Step 1: Load the necessary libraries and the Boston Housing Prices dataset\n",
        "import numpy as np\n",
        "import matplotlib.pyplot as plt\n",
        "from sklearn.model_selection import train_test_split\n",
        "from sklearn.metrics import mean_absolute_error, mean_squared_error, r2_score\n",
        "from sklearn.preprocessing import StandardScaler"
      ]
    },
    {
      "cell_type": "code",
      "execution_count": 2,
      "id": "f8d21f2d",
      "metadata": {
        "id": "f8d21f2d"
      },
      "outputs": [],
      "source": [
        "# Load the Boston Housing Prices dataset\n",
        "import pandas as pd\n",
        "import requests\n",
        "\n",
        "def load_boston_5420():\n",
        "    url = \"https://faculty.tuck.dartmouth.edu/images/uploads/faculty/business-analytics/Boston_Housing.xlsx\"\n",
        "\n",
        "    response = requests.get(url)\n",
        "\n",
        "    if response.status_code == 200:\n",
        "        df = pd.read_excel(url)\n",
        "\n",
        "        feature_names = df.columns[:-1].tolist()\n",
        "        target_name = df.columns[-1]\n",
        "\n",
        "        dataset = {\n",
        "            'data': df[feature_names].values,\n",
        "            'target': df[target_name].values,\n",
        "            'feature_names': feature_names,\n",
        "            'target_name': target_name,\n",
        "            'DESCR': 'Boston Housing dataset for CS5420 @ MST'\n",
        "        }\n",
        "\n",
        "        return dataset\n",
        "    else:\n",
        "        print(\"Failed to download the dataset.\")\n",
        "\n",
        "boston = load_boston_5420()\n",
        "X, y = boston['data'], boston['target']"
      ]
    },
    {
      "cell_type": "code",
      "execution_count": 3,
      "id": "02d49e6e",
      "metadata": {
        "id": "02d49e6e"
      },
      "outputs": [],
      "source": [
        "# Step 2: Data preprocessing\n",
        "# Split the dataset into training and testing sets (70% train, 30% test) with random_state=42\n",
        "# (5 points)\n",
        "x_train, x_test, y_train, y_test = train_test_split(X, y, test_size=0.3, random_state=42)\n",
        "\n"
      ]
    },
    {
      "cell_type": "code",
      "execution_count": 4,
      "id": "cd35d1db",
      "metadata": {
        "id": "cd35d1db"
      },
      "outputs": [],
      "source": [
        "# Step 3: Standardize the feature values\n",
        "# NOTE: train and test must be transformed separately to prevent data leakage\n",
        "# (5 points)\n",
        "scalar_obj = StandardScaler()\n",
        "x_train_scalar = scalar_obj.fit_transform(x_train)\n",
        "x_test_scalar = scalar_obj.transform(x_test)\n"
      ]
    },
    {
      "cell_type": "code",
      "execution_count": 5,
      "id": "4be56ddc",
      "metadata": {
        "id": "4be56ddc",
        "colab": {
          "base_uri": "https://localhost:8080/",
          "height": 74
        },
        "outputId": "b364b4e8-334f-4599-dd2e-41f6ee6fb0c4"
      },
      "outputs": [
        {
          "output_type": "execute_result",
          "data": {
            "text/plain": [
              "LinearRegression()"
            ],
            "text/html": [
              "<style>#sk-container-id-1 {color: black;background-color: white;}#sk-container-id-1 pre{padding: 0;}#sk-container-id-1 div.sk-toggleable {background-color: white;}#sk-container-id-1 label.sk-toggleable__label {cursor: pointer;display: block;width: 100%;margin-bottom: 0;padding: 0.3em;box-sizing: border-box;text-align: center;}#sk-container-id-1 label.sk-toggleable__label-arrow:before {content: \"▸\";float: left;margin-right: 0.25em;color: #696969;}#sk-container-id-1 label.sk-toggleable__label-arrow:hover:before {color: black;}#sk-container-id-1 div.sk-estimator:hover label.sk-toggleable__label-arrow:before {color: black;}#sk-container-id-1 div.sk-toggleable__content {max-height: 0;max-width: 0;overflow: hidden;text-align: left;background-color: #f0f8ff;}#sk-container-id-1 div.sk-toggleable__content pre {margin: 0.2em;color: black;border-radius: 0.25em;background-color: #f0f8ff;}#sk-container-id-1 input.sk-toggleable__control:checked~div.sk-toggleable__content {max-height: 200px;max-width: 100%;overflow: auto;}#sk-container-id-1 input.sk-toggleable__control:checked~label.sk-toggleable__label-arrow:before {content: \"▾\";}#sk-container-id-1 div.sk-estimator input.sk-toggleable__control:checked~label.sk-toggleable__label {background-color: #d4ebff;}#sk-container-id-1 div.sk-label input.sk-toggleable__control:checked~label.sk-toggleable__label {background-color: #d4ebff;}#sk-container-id-1 input.sk-hidden--visually {border: 0;clip: rect(1px 1px 1px 1px);clip: rect(1px, 1px, 1px, 1px);height: 1px;margin: -1px;overflow: hidden;padding: 0;position: absolute;width: 1px;}#sk-container-id-1 div.sk-estimator {font-family: monospace;background-color: #f0f8ff;border: 1px dotted black;border-radius: 0.25em;box-sizing: border-box;margin-bottom: 0.5em;}#sk-container-id-1 div.sk-estimator:hover {background-color: #d4ebff;}#sk-container-id-1 div.sk-parallel-item::after {content: \"\";width: 100%;border-bottom: 1px solid gray;flex-grow: 1;}#sk-container-id-1 div.sk-label:hover label.sk-toggleable__label {background-color: #d4ebff;}#sk-container-id-1 div.sk-serial::before {content: \"\";position: absolute;border-left: 1px solid gray;box-sizing: border-box;top: 0;bottom: 0;left: 50%;z-index: 0;}#sk-container-id-1 div.sk-serial {display: flex;flex-direction: column;align-items: center;background-color: white;padding-right: 0.2em;padding-left: 0.2em;position: relative;}#sk-container-id-1 div.sk-item {position: relative;z-index: 1;}#sk-container-id-1 div.sk-parallel {display: flex;align-items: stretch;justify-content: center;background-color: white;position: relative;}#sk-container-id-1 div.sk-item::before, #sk-container-id-1 div.sk-parallel-item::before {content: \"\";position: absolute;border-left: 1px solid gray;box-sizing: border-box;top: 0;bottom: 0;left: 50%;z-index: -1;}#sk-container-id-1 div.sk-parallel-item {display: flex;flex-direction: column;z-index: 1;position: relative;background-color: white;}#sk-container-id-1 div.sk-parallel-item:first-child::after {align-self: flex-end;width: 50%;}#sk-container-id-1 div.sk-parallel-item:last-child::after {align-self: flex-start;width: 50%;}#sk-container-id-1 div.sk-parallel-item:only-child::after {width: 0;}#sk-container-id-1 div.sk-dashed-wrapped {border: 1px dashed gray;margin: 0 0.4em 0.5em 0.4em;box-sizing: border-box;padding-bottom: 0.4em;background-color: white;}#sk-container-id-1 div.sk-label label {font-family: monospace;font-weight: bold;display: inline-block;line-height: 1.2em;}#sk-container-id-1 div.sk-label-container {text-align: center;}#sk-container-id-1 div.sk-container {/* jupyter's `normalize.less` sets `[hidden] { display: none; }` but bootstrap.min.css set `[hidden] { display: none !important; }` so we also need the `!important` here to be able to override the default hidden behavior on the sphinx rendered scikit-learn.org. See: https://github.com/scikit-learn/scikit-learn/issues/21755 */display: inline-block !important;position: relative;}#sk-container-id-1 div.sk-text-repr-fallback {display: none;}</style><div id=\"sk-container-id-1\" class=\"sk-top-container\"><div class=\"sk-text-repr-fallback\"><pre>LinearRegression()</pre><b>In a Jupyter environment, please rerun this cell to show the HTML representation or trust the notebook. <br />On GitHub, the HTML representation is unable to render, please try loading this page with nbviewer.org.</b></div><div class=\"sk-container\" hidden><div class=\"sk-item\"><div class=\"sk-estimator sk-toggleable\"><input class=\"sk-toggleable__control sk-hidden--visually\" id=\"sk-estimator-id-1\" type=\"checkbox\" checked><label for=\"sk-estimator-id-1\" class=\"sk-toggleable__label sk-toggleable__label-arrow\">LinearRegression</label><div class=\"sk-toggleable__content\"><pre>LinearRegression()</pre></div></div></div></div></div>"
            ]
          },
          "metadata": {},
          "execution_count": 5
        }
      ],
      "source": [
        "# Step 4: Initialize and train the OLS linear regression model\n",
        "# (7.5 points)\n",
        "from sklearn.linear_model import LinearRegression\n",
        "linear_reg_obj = LinearRegression()\n",
        "linear_reg_obj.fit(x_train_scalar, y_train)\n",
        "\n"
      ]
    },
    {
      "cell_type": "code",
      "execution_count": 6,
      "id": "16aa6181",
      "metadata": {
        "id": "16aa6181",
        "colab": {
          "base_uri": "https://localhost:8080/"
        },
        "outputId": "e8a65aaa-7670-44cc-e146-4d304b5cbe2b"
      },
      "outputs": [
        {
          "output_type": "stream",
          "name": "stdout",
          "text": [
            "R2: 0.7112260057484932\n"
          ]
        }
      ],
      "source": [
        "# Step 5: Make predictions on the testing set and print the r2 score\n",
        "# (7.5 points)\n",
        "prediction = linear_reg_obj.predict(x_test_scalar)\n",
        "Linear_R2 = r2_score(y_test, prediction)\n",
        "print(f\"R2: {Linear_R2}\")"
      ]
    },
    {
      "cell_type": "markdown",
      "id": "7659ffd5",
      "metadata": {
        "id": "7659ffd5"
      },
      "source": [
        "**Task 2: Ridge Regression**"
      ]
    },
    {
      "cell_type": "code",
      "execution_count": 7,
      "id": "959b910a",
      "metadata": {
        "id": "959b910a"
      },
      "outputs": [],
      "source": [
        "# Step 1: Import Ridge regression and the California Housing Prices dataset\n",
        "from sklearn.datasets import fetch_california_housing\n",
        "from sklearn.linear_model import Ridge\n"
      ]
    },
    {
      "cell_type": "code",
      "execution_count": 8,
      "id": "62283baa",
      "metadata": {
        "id": "62283baa"
      },
      "outputs": [],
      "source": [
        "# Load the California Housing Prices dataset\n",
        "data = fetch_california_housing()\n",
        "X, y = data.data, data.target"
      ]
    },
    {
      "cell_type": "code",
      "execution_count": 9,
      "id": "7a4be7a4",
      "metadata": {
        "id": "7a4be7a4"
      },
      "outputs": [],
      "source": [
        "# Split the dataset into training and testing sets (70% train, 30% test) with random_state=42\n",
        "x_train, x_test, y_train, y_test = train_test_split(X, y, test_size=0.3, random_state=42)\n",
        "\n",
        "# Standardize the feature values\n",
        "scalar_obj = StandardScaler()\n",
        "x_train_scalar = scalar_obj.fit_transform(x_train)\n",
        "x_test_scalar = scalar_obj.transform(x_test)\n"
      ]
    },
    {
      "cell_type": "code",
      "execution_count": 10,
      "id": "3bdf4d6a",
      "metadata": {
        "id": "3bdf4d6a"
      },
      "outputs": [],
      "source": [
        "from hashlib import new\n",
        "# Step 2: Train the Ridge Regression model different alpha values [0.001, 0.01, 0.1, 1, 10, 100] and store the best alpha in a variable\n",
        "# based on mean_absolute_error\n",
        "# (15 points)\n",
        "alpha_values = [0.001, 0.01, 0.1, 1, 10, 100]\n",
        "best_alpha = 0\n",
        "best_mean_abs_error = 1.1\n",
        "for val in alpha_values:\n",
        "  new_ridge_model = Ridge(alpha = val)\n",
        "  new_ridge_model.fit(x_train_scalar, y_train)\n",
        "  prediction = new_ridge_model.predict(x_test_scalar)\n",
        "  mean_abs_error = mean_absolute_error(y_test, prediction)\n",
        "  if(mean_abs_error < best_mean_abs_error):\n",
        "    best_alpha = val\n",
        "    best_mean_abs_error = mean_abs_error\n",
        "#print(f\"Best Alpha: {best_alpha}\")\n"
      ]
    },
    {
      "cell_type": "code",
      "execution_count": 11,
      "id": "cab59dcc",
      "metadata": {
        "id": "cab59dcc",
        "colab": {
          "base_uri": "https://localhost:8080/"
        },
        "outputId": "371ebdce-681f-47ee-d101-116eff4d5dfe"
      },
      "outputs": [
        {
          "output_type": "stream",
          "name": "stdout",
          "text": [
            "R2 Score: 0.595944060491304\n"
          ]
        }
      ],
      "source": [
        "\n",
        "# Step 4: Re-train the Ridge Regression model with the best alpha value and print r2_score\n",
        "# (5 points)\n",
        "ridge_model_2 = Ridge(alpha = best_alpha)\n",
        "ridge_model_2.fit(x_train_scalar, y_train)\n",
        "prediction_2 = ridge_model_2.predict(x_test_scalar)\n",
        "ridge_r2 = r2_score(y_test, prediction_2)\n",
        "print(f\"R2 Score: {ridge_r2}\")\n",
        "\n"
      ]
    },
    {
      "cell_type": "markdown",
      "id": "dc4d4e04",
      "metadata": {
        "id": "dc4d4e04"
      },
      "source": [
        "**Task 3: Lasso Regression**"
      ]
    },
    {
      "cell_type": "code",
      "execution_count": 12,
      "id": "25d3a320",
      "metadata": {
        "id": "25d3a320"
      },
      "outputs": [],
      "source": [
        "# Import Lasso Regression\n",
        "from sklearn.linear_model import Lasso"
      ]
    },
    {
      "cell_type": "code",
      "execution_count": 13,
      "id": "586956d1",
      "metadata": {
        "id": "586956d1"
      },
      "outputs": [],
      "source": [
        "# Load the California Housing Prices dataset\n",
        "data = fetch_california_housing()\n",
        "X, y = data.data, data.target"
      ]
    },
    {
      "cell_type": "code",
      "execution_count": 14,
      "id": "d4fa13ff",
      "metadata": {
        "id": "d4fa13ff"
      },
      "outputs": [],
      "source": [
        "# Split the dataset into training and testing sets (70% train, 30% test) with random_state=42\n",
        "_train, x_test, y_train, y_test = train_test_split(X, y, test_size=0.3, random_state=42)\n",
        "\n",
        "# Standardize the feature values\n",
        "scalar_obj = StandardScaler()\n",
        "x_train_scalar = scalar_obj.fit_transform(x_train)\n",
        "x_test_scalar = scalar_obj.transform(x_test)\n"
      ]
    },
    {
      "cell_type": "code",
      "execution_count": 15,
      "id": "f3217d32",
      "metadata": {
        "id": "f3217d32"
      },
      "outputs": [],
      "source": [
        "# Step 3: Train the Lasso Regression model with different alpha values [0.001, 0.01, 0.1, 1, 10, 100] and store the best alpha in a variable\n",
        "# based on mean_absolute_error\n",
        "# (15 points)\n",
        "\n",
        "alpha_values = [0.001, 0.01, 0.1, 1, 10, 100]\n",
        "best_alpha = 0\n",
        "best_mean_abs_error = 1.1\n",
        "for val in alpha_values:\n",
        "  new_lasso_model = Lasso(alpha = val)\n",
        "  new_lasso_model.fit(x_train_scalar, y_train)\n",
        "  prediction = new_lasso_model.predict(x_test_scalar)\n",
        "  mean_abs_error = mean_absolute_error(y_test, prediction)\n",
        "  if(mean_abs_error < best_mean_abs_error):\n",
        "    best_alpha = val\n",
        "    best_mean_abs_error = mean_abs_error\n",
        "#print(f\"Best Alpha: {best_alpha}\")\n",
        "\n"
      ]
    },
    {
      "cell_type": "code",
      "execution_count": 16,
      "id": "7df4df1e",
      "metadata": {
        "id": "7df4df1e",
        "colab": {
          "base_uri": "https://localhost:8080/"
        },
        "outputId": "ba000f9a-037a-4140-82ff-018e7237f62d"
      },
      "outputs": [
        {
          "output_type": "stream",
          "name": "stdout",
          "text": [
            "R2 Score: 0.5963975777208825\n"
          ]
        }
      ],
      "source": [
        "# Step 4: Re-train the Lasso Regression model with the best alpha value and print r2_score\n",
        "# (5 points)\n",
        "lasso_model_2 = Lasso(alpha = best_alpha)\n",
        "lasso_model_2.fit(x_train_scalar, y_train)\n",
        "prediction_2 = lasso_model_2.predict(x_test_scalar)\n",
        "lasso_r2 = r2_score(y_test, prediction_2)\n",
        "print(f\"R2 Score: {lasso_r2}\")\n",
        "\n"
      ]
    }
  ],
  "metadata": {
    "kernelspec": {
      "display_name": "Python 3 (ipykernel)",
      "language": "python",
      "name": "python3"
    },
    "language_info": {
      "codemirror_mode": {
        "name": "ipython",
        "version": 3
      },
      "file_extension": ".py",
      "mimetype": "text/x-python",
      "name": "python",
      "nbconvert_exporter": "python",
      "pygments_lexer": "ipython3",
      "version": "3.7.11"
    },
    "colab": {
      "provenance": []
    }
  },
  "nbformat": 4,
  "nbformat_minor": 5
}